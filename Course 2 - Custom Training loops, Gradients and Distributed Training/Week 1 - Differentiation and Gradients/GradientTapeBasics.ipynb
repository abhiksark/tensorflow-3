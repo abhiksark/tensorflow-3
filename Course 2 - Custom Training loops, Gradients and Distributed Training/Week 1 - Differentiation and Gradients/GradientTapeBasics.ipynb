{
  "nbformat": 4,
  "nbformat_minor": 0,
  "metadata": {
    "colab": {
      "name": "GradientTapeBasics.ipynb",
      "provenance": []
    },
    "kernelspec": {
      "name": "python3",
      "display_name": "Python 3"
    }
  },
  "cells": [
    {
      "cell_type": "code",
      "metadata": {
        "id": "uQe_MWjNPQkR",
        "colab_type": "code",
        "colab": {}
      },
      "source": [
        "import tensorflow as tf"
      ],
      "execution_count": 2,
      "outputs": []
    },
    {
      "cell_type": "code",
      "metadata": {
        "id": "57Vnn9iIPNh9",
        "colab_type": "code",
        "colab": {
          "base_uri": "https://localhost:8080/",
          "height": 69
        },
        "outputId": "543fce75-1adc-447c-b70b-872e8f8c9841"
      },
      "source": [
        "x = tf.ones((2,2))\n",
        "\n",
        "with tf.GradientTape() as t:\n",
        "  # Record the actions performed on tensor x with `watch`\n",
        "  t.watch(x)\t\t    \n",
        "\n",
        "  # Define a polynomial of form 3x^3 - 2x^2 + x\n",
        "  y =  tf.reduce_sum(x)\n",
        "\n",
        "  # Obtain the sum of variable y\n",
        "  z = tf.square(y) \n",
        "  \n",
        "# Derivative of z wrt the original input tensor x\n",
        "dz_dx = t.gradient(z, x)\n",
        "dz_dx"
      ],
      "execution_count": 4,
      "outputs": [
        {
          "output_type": "execute_result",
          "data": {
            "text/plain": [
              "<tf.Tensor: shape=(2, 2), dtype=float32, numpy=\n",
              "array([[8., 8.],\n",
              "       [8., 8.]], dtype=float32)>"
            ]
          },
          "metadata": {
            "tags": []
          },
          "execution_count": 4
        }
      ]
    },
    {
      "cell_type": "code",
      "metadata": {
        "id": "P12ExatAPqn6",
        "colab_type": "code",
        "colab": {
          "base_uri": "https://localhost:8080/",
          "height": 52
        },
        "outputId": "65d8c2ca-b49d-4b91-d2d5-97153daf5d19"
      },
      "source": [
        "x = tf.constant(3.0)\n",
        "with tf.GradientTape(persistent=True) as t:\n",
        "  t.watch(x)\n",
        "  y = x * x\n",
        "  z = y * y\n",
        "dz_dx = t.gradient(z, x)  # 108.0 (4 * x^3 at x = 3)\n",
        "print(dz_dx)\n",
        "dy_dx = t.gradient(y, x)  # 6.0\n",
        "print(dy_dx)\n",
        "del t  # Drop the reference to the tape\n"
      ],
      "execution_count": 8,
      "outputs": [
        {
          "output_type": "stream",
          "text": [
            "tf.Tensor(108.0, shape=(), dtype=float32)\n",
            "tf.Tensor(6.0, shape=(), dtype=float32)\n"
          ],
          "name": "stdout"
        }
      ]
    },
    {
      "cell_type": "code",
      "metadata": {
        "id": "UxNLeFLlP4qU",
        "colab_type": "code",
        "colab": {
          "base_uri": "https://localhost:8080/",
          "height": 52
        },
        "outputId": "5f96770a-f0a3-47e5-dd8d-3e0b3074deeb"
      },
      "source": [
        "x = tf.Variable(1.0)\n",
        "\n",
        "with tf.GradientTape() as tape_2:\n",
        "  with tf.GradientTape() as tape_1:\n",
        "    y = x * x * x\n",
        "  dy_dx = tape_1.gradient(y, x)\n",
        "d2y_dx2 = tape_2.gradient(dy_dx, x)\n",
        "\n",
        "print(dy_dx)\n",
        "print(d2y_dx2)"
      ],
      "execution_count": 12,
      "outputs": [
        {
          "output_type": "stream",
          "text": [
            "tf.Tensor(3.0, shape=(), dtype=float32)\n",
            "tf.Tensor(6.0, shape=(), dtype=float32)\n"
          ],
          "name": "stdout"
        }
      ]
    }
  ]
}