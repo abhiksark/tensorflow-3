{
  "nbformat": 4,
  "nbformat_minor": 0,
  "metadata": {
    "colab": {
      "name": "Training Basics.ipynb",
      "provenance": [],
      "private_outputs": true,
      "collapsed_sections": [],
      "include_colab_link": true
    },
    "kernelspec": {
      "display_name": "Python 3.7.4 64-bit ('CourseraExtendingKeras': venv)",
      "name": "python_defaultSpec_1595357091684"
    }
  },
  "cells": [
    {
      "cell_type": "markdown",
      "metadata": {
        "colab_type": "text",
        "id": "hrXv0rU9sIma"
      },
      "source": [
        "# Autograph: Lesson 2\n",
        "This colab will take you through some of the scenarios from lesson 2!"
      ]
    },
    {
      "cell_type": "code",
      "metadata": {
        "colab_type": "code",
        "id": "NiolgWMPgpwI",
        "colab": {}
      },
      "source": [
        "try:\n",
        "  # %tensorflow_version only exists in Colab.\n",
        "  %tensorflow_version 2.x\n",
        "except Exception:\n",
        "  pass\n",
        "import tensorflow as tf\n"
      ],
      "execution_count": 2,
      "outputs": []
    },
    {
      "cell_type": "code",
      "execution_count": null,
      "metadata": {
        "tags": []
      },
      "outputs": [],
      "source": [
        "a = tf.Variable(1.0)\n",
        "b = tf.Variable(2.0)\n",
        "\n",
        "@tf.function\n",
        "def f(x,y):\n",
        "    a.assign(y * b)\n",
        "    b.assign_add(x * a)\n",
        "    return a + b\n",
        "\n",
        "print(f(1.0, 2.0))\n",
        "\n",
        "print(tf.autograph.to_code(f.python_function))"
      ]
    },
    {
      "cell_type": "code",
      "execution_count": null,
      "metadata": {
        "tags": []
      },
      "outputs": [],
      "source": [
        "@tf.function\n",
        "def sign(x):\n",
        "  if x > 0:\n",
        "    return 'Positive'\n",
        "  else:\n",
        "    return 'Negative'\n",
        "\n",
        "print(\"Sign = {}\".format(sign(tf.constant(2))))\n",
        "print(\"Sign = {}\".format(sign(tf.constant(-2))))\n",
        "\n",
        "print(tf.autograph.to_code(sign.python_function))"
      ]
    },
    {
      "cell_type": "code",
      "execution_count": null,
      "metadata": {
        "tags": []
      },
      "outputs": [],
      "source": [
        "@tf.function\n",
        "def f(x):\n",
        "  while tf.reduce_sum(x) > 1:\n",
        "    tf.print(x)\n",
        "    x = tf.tanh(x)\n",
        "  return x\n",
        "\n",
        "#f(tf.random.uniform([5]))\n",
        "\n",
        "print(tf.autograph.to_code(f.python_function))"
      ]
    },
    {
      "cell_type": "code",
      "execution_count": 3,
      "metadata": {
        "tags": []
      },
      "outputs": [
        {
          "output_type": "stream",
          "name": "stdout",
          "text": "def tf__sum_even(items):\n    do_return = False\n    retval_ = ag__.UndefinedReturnValue()\n    with ag__.FunctionScope('sum_even', 'fscope', ag__.ConversionOptions(recursive=True, user_requested=True, optional_features=(), internal_convert_user_code=True)) as fscope:\n        s = 0\n\n        def get_state_2():\n            return (s,)\n\n        def set_state_2(loop_vars):\n            nonlocal s\n            (s,) = loop_vars\n\n        def loop_body(itr):\n            nonlocal s\n            c = itr\n            continue_ = False\n\n            def get_state():\n                return ()\n\n            def set_state(loop_vars):\n                pass\n\n            def if_true():\n                continue_ = True\n                return continue_\n\n            def if_false():\n                return continue_\n            cond = ((c % 2) > 0)\n            continue_ = ag__.if_stmt(cond, if_true, if_false, get_state, set_state, ('continue_',), ())\n\n            def get_state_1():\n                return ()\n\n            def set_state_1(loop_vars):\n                pass\n\n            def if_true_1():\n                (s_1,) = (s,)\n                s_1 += c\n                return s_1\n\n            def if_false_1():\n                return s\n            cond_1 = ag__.not_(continue_)\n            s = ag__.if_stmt(cond_1, if_true_1, if_false_1, get_state_1, set_state_1, ('s',), ())\n        ag__.for_stmt(items, None, loop_body, get_state_2, set_state_2, ('s',), {})\n        try:\n            do_return = True\n            retval_ = fscope.mark_return_value(s)\n        except:\n            do_return = False\n            raise\n    (do_return,)\n    return ag__.retval(retval_)\n\n"
        }
      ],
      "source": [
        "@tf.function\n",
        "def sum_even(items):\n",
        "  s = 0\n",
        "  for c in items:\n",
        "    if c % 2 > 0:\n",
        "      continue\n",
        "    s += c\n",
        "  return s\n",
        "\n",
        "print(tf.autograph.to_code(sum_even.python_function))"
      ]
    },
    {
      "cell_type": "code",
      "execution_count": null,
      "metadata": {
        "tags": []
      },
      "outputs": [],
      "source": [
        "def f(x):\n",
        "  print(\"Traced with\", x)\n",
        "\n",
        "for i in range(5):\n",
        "  f(2)\n",
        "f(3)"
      ]
    },
    {
      "cell_type": "code",
      "execution_count": null,
      "metadata": {
        "tags": []
      },
      "outputs": [],
      "source": [
        "@tf.function\n",
        "def f(x):\n",
        "  print(\"Traced with\", x)\n",
        "  #tf.print(\"Executed with\", x)\n",
        "for i in range(5):\n",
        "  f(2)\n",
        "f(3)"
      ]
    },
    {
      "cell_type": "code",
      "execution_count": null,
      "metadata": {
        "tags": []
      },
      "outputs": [],
      "source": [
        "@tf.function\n",
        "def f(x):\n",
        "  v = tf.Variable(1.0)\n",
        "  v.assign_add(x)\n",
        "  return v\n",
        "print(f(1))"
      ]
    },
    {
      "cell_type": "code",
      "execution_count": null,
      "metadata": {
        "tags": []
      },
      "outputs": [],
      "source": [
        "v = tf.Variable(1.0)\n",
        "\n",
        "@tf.function\n",
        "def f(x):\n",
        "  return v.assign_add(x)\n",
        "\n",
        "print(f(5))"
      ]
    },
    {
      "cell_type": "code",
      "execution_count": null,
      "metadata": {},
      "outputs": [],
      "source": []
    }
  ]
}