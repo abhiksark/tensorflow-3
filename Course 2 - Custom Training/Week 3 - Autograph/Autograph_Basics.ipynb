{
  "nbformat": 4,
  "nbformat_minor": 0,
  "metadata": {
    "colab": {
      "name": "Training Basics.ipynb",
      "provenance": [],
      "private_outputs": true,
      "collapsed_sections": [],
      "kernelspec": {	}
      "include_colab_link": true
    },
  },
  "cells": [
    {
      "cell_type": "markdown",
      "metadata": {
        "colab_type": "text",
        "id": "hrXv0rU9sIma"
      },
      "source": [
        "# Autograph: basic\n",
        "This colab will take you through some of the basics of autograph so you can explore what the generated code looks like! "
      ]
    },
    {
      "cell_type": "code",
      "metadata": {
        "colab_type": "code",
        "id": "NiolgWMPgpwI",
        "colab": {}
      },
      "source": [
        "try:\n",
        "  # %tensorflow_version only exists in Colab.\n",
        "  %tensorflow_version 2.x\n",
        "except Exception:\n",
        "  pass\n",
        "import tensorflow as tf\n"
      ],
      "execution_count": 8,
      "outputs": []
    },
    {
      "cell_type": "code",
      "execution_count": 9,
      "metadata": {
        "tags": []
      },
      "outputs": [
        {
          "output_type": "stream",
          "name": "stdout",
          "text": "tf.Tensor(\n[[5. 2.]\n [4. 9.]], shape=(2, 2), dtype=float32)\ndef tf__add(a, b):\n    do_return = False\n    retval_ = ag__.UndefinedReturnValue()\n    with ag__.FunctionScope('add', 'fscope', ag__.ConversionOptions(recursive=True, user_requested=True, optional_features=(), internal_convert_user_code=True)) as fscope:\n        try:\n            do_return = True\n            retval_ = fscope.mark_return_value((a + b))\n        except:\n            do_return = False\n            raise\n    (do_return,)\n    return ag__.retval(retval_)\n\n"
        }
      ],
      "source": [
        "@tf.function\n",
        "def add(a, b):\n",
        "  return a + b\n",
        "\n",
        "\n",
        "a = tf.Variable([[1.,2.],[3.,4.]])\n",
        "b = tf.Variable([[4.,0.],[1.,5.]])\n",
        "print(tf.add(a, b))\n",
        "\n",
        "print(tf.autograph.to_code(add.python_function))"
      ]
    },
    {
      "cell_type": "code",
      "execution_count": 10,
      "metadata": {
        "tags": []
      },
      "outputs": [
        {
          "output_type": "stream",
          "name": "stdout",
          "text": "def tf__f(x):\n    do_return = False\n    retval_ = ag__.UndefinedReturnValue()\n    with ag__.FunctionScope('f', 'fscope', ag__.ConversionOptions(recursive=True, user_requested=True, optional_features=(), internal_convert_user_code=True)) as fscope:\n\n        def get_state():\n            return ()\n\n        def set_state(loop_vars):\n            pass\n\n        def if_true():\n            (x_1,) = (x,)\n            x_1 = (x_1 * x_1)\n            return x_1\n\n        def if_false():\n            return x\n        cond = (x > 0)\n        x = ag__.if_stmt(cond, if_true, if_false, get_state, set_state, ('x',), ())\n        try:\n            do_return = True\n            retval_ = fscope.mark_return_value(x)\n        except:\n            do_return = False\n            raise\n    (do_return,)\n    return ag__.retval(retval_)\n\n"
        }
      ],
      "source": [
        "@tf.function\n",
        "def f(x):\n",
        "    if x>0:\n",
        "        x = x * x\n",
        "    return x\n",
        "\n",
        "print(tf.autograph.to_code(f.python_function))"
      ]
    },
    {
      "cell_type": "code",
      "execution_count": 11,
      "metadata": {
        "tags": []
      },
      "outputs": [
        {
          "output_type": "stream",
          "name": "stdout",
          "text": "def tf__fizzbuzz(max_num):\n    do_return = False\n    retval_ = ag__.UndefinedReturnValue()\n    with ag__.FunctionScope('fizzbuzz', 'fscope', ag__.ConversionOptions(recursive=True, user_requested=True, optional_features=(), internal_convert_user_code=True)) as fscope:\n        counter = 0\n\n        def get_state_3():\n            return (counter,)\n\n        def set_state_3(loop_vars):\n            nonlocal counter\n            (counter,) = loop_vars\n\n        def loop_body(itr):\n            nonlocal counter\n            num = itr\n\n            def get_state_2():\n                return ()\n\n            def set_state_2(loop_vars):\n                pass\n\n            def if_true_2():\n                print('FizzBuzz')\n                return ag__.match_staging_level(1, cond_2)\n\n            def if_false_2():\n\n                def get_state_1():\n                    return ()\n\n                def set_state_1(loop_vars):\n                    pass\n\n                def if_true_1():\n                    print('Fizz')\n                    return ag__.match_staging_level(1, cond_1)\n\n                def if_false_1():\n\n                    def get_state():\n                        return ()\n\n                    def set_state(loop_vars):\n                        pass\n\n                    def if_true():\n                        print('Buzz')\n                        return ag__.match_staging_level(1, cond)\n\n                    def if_false():\n                        print(num)\n                        return ag__.match_staging_level(1, cond)\n                    cond = ((num % 5) == 0)\n                    ag__.if_stmt(cond, if_true, if_false, get_state, set_state, (), ())\n                    return ag__.match_staging_level(1, cond_1)\n                cond_1 = ((num % 3) == 0)\n                ag__.if_stmt(cond_1, if_true_1, if_false_1, get_state_1, set_state_1, (), ())\n                return ag__.match_staging_level(1, cond_2)\n            cond_2 = ag__.and_((lambda : ((num % 3) == 0)), (lambda : ((num % 5) == 0)))\n            ag__.if_stmt(cond_2, if_true_2, if_false_2, get_state_2, set_state_2, (), ())\n            counter += 1\n        ag__.for_stmt(ag__.converted_call(range, (max_num,), None, fscope), None, loop_body, get_state_3, set_state_3, ('counter',), {})\n        try:\n            do_return = True\n            retval_ = fscope.mark_return_value(counter)\n        except:\n            do_return = False\n            raise\n    (do_return,)\n    return ag__.retval(retval_)\n\n"
        }
      ],
      "source": [
        "@tf.function\n",
        "def fizzbuzz(max_num):\n",
        "  counter = 0\n",
        "  for num in range(max_num):\n",
        "    if num % 3 == 0 and num % 5 == 0:\n",
        "      print('FizzBuzz')\n",
        "    elif num % 3 == 0:\n",
        "      print('Fizz')\n",
        "    elif num % 5 == 0:\n",
        "      print('Buzz')\n",
        "    else:\n",
        "      print(num)\n",
        "    counter += 1\n",
        "  return counter\n",
        "\n",
        "print(tf.autograph.to_code(fizzbuzz.python_function))"
      ]
    },
    {
      "cell_type": "code",
      "execution_count": null,
      "metadata": {},
      "outputs": [],
      "source": []
    }
  ]
}
